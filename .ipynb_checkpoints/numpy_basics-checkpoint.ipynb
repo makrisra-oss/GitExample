{
 "cells": [
  {
   "cell_type": "markdown",
   "id": "92a80772-f922-40e0-8f95-217d7f363a0a",
   "metadata": {},
   "source": [
    "# Numpy"
   ]
  },
  {
   "cell_type": "markdown",
   "id": "821b8b8f-f9a6-4747-87a7-c69b56530613",
   "metadata": {},
   "source": [
    "Numpy is a library which provides support for large, homogeneous, multi-dimensional arrays and matrices"
   ]
  },
  {
   "cell_type": "code",
   "execution_count": 2,
   "id": "cd3bb7d3-cc74-4858-9685-cb5d5641c3a2",
   "metadata": {},
   "outputs": [],
   "source": [
    "# import numpy\n",
    "import numpy as np"
   ]
  },
  {
   "cell_type": "markdown",
   "id": "03dbb723-cc8a-45b6-9e92-9a72bc0946a3",
   "metadata": {},
   "source": [
    "## Creating arrays in Numpy\n",
    "\n",
    "### Creating an array from a list"
   ]
  },
  {
   "cell_type": "code",
   "execution_count": 9,
   "id": "8cee304c-12d6-4da0-ac4c-880905793d66",
   "metadata": {},
   "outputs": [
    {
     "data": {
      "text/plain": [
       "[10, 20, 30]"
      ]
     },
     "execution_count": 9,
     "metadata": {},
     "output_type": "execute_result"
    }
   ],
   "source": [
    "list1 = [10, 20, 30]\n",
    "list1"
   ]
  },
  {
   "cell_type": "code",
   "execution_count": 10,
   "id": "04db4248-d55e-4ce2-a3e2-e589743c5e2d",
   "metadata": {},
   "outputs": [
    {
     "data": {
      "text/plain": [
       "array([10, 20, 30])"
      ]
     },
     "execution_count": 10,
     "metadata": {},
     "output_type": "execute_result"
    }
   ],
   "source": [
    "arr1 = np.array(list1)\n",
    "arr1"
   ]
  },
  {
   "cell_type": "code",
   "execution_count": 11,
   "id": "81fe7e43-1a94-4f6e-853d-62f60a32f10a",
   "metadata": {},
   "outputs": [
    {
     "data": {
      "text/plain": [
       "numpy.ndarray"
      ]
     },
     "execution_count": 11,
     "metadata": {},
     "output_type": "execute_result"
    }
   ],
   "source": [
    "type(arr1)"
   ]
  },
  {
   "cell_type": "markdown",
   "id": "7681aa8a-5c72-480e-93e7-5ef3711aaa84",
   "metadata": {},
   "source": [
    "### Using arrange to create an array\n",
    "\n",
    "The difference between array and arrange is that array takes in a list and turns it into an array, whereas arrange creates an array from a range of numbers."
   ]
  },
  {
   "cell_type": "code",
   "execution_count": 12,
   "id": "7b822c8f-e29b-4150-92ac-6beed7dd9140",
   "metadata": {},
   "outputs": [
    {
     "data": {
      "text/plain": [
       "array([10, 11, 12, 13, 14, 15, 16, 17, 18, 19])"
      ]
     },
     "execution_count": 12,
     "metadata": {},
     "output_type": "execute_result"
    }
   ],
   "source": [
    "arr2 = np.arange(10, 20, 1) #(Start, Stop, Step-size)\n",
    "arr2"
   ]
  },
  {
   "cell_type": "markdown",
   "id": "986167b5-8133-41b6-89fc-5f6c6c1e28a3",
   "metadata": {},
   "source": [
    "## Multidimesnional arrays\n",
    "\n",
    "### Combining two list - Two-dimensional arrays\n",
    "\n",
    "When we combine arrays together, we can add dimensions. Combining two arrays gives us a 2d array!\n",
    "\n",
    "This creates a matrix for us which we can perform matrix operations."
   ]
  },
  {
   "cell_type": "code",
   "execution_count": 13,
   "id": "659af5a5-bc67-429f-8d01-4e4b96435468",
   "metadata": {},
   "outputs": [
    {
     "data": {
      "text/plain": [
       "array([[10, 20, 30],\n",
       "       [40, 50, 60]])"
      ]
     },
     "execution_count": 13,
     "metadata": {},
     "output_type": "execute_result"
    }
   ],
   "source": [
    "# Let's create a new list to join onto the first list\n",
    "list2 = [40,50,60]\n",
    "\n",
    "# Join the lists\n",
    "list3 = [list1, list2]\n",
    "\n",
    "#Create an array out of the joined lists\n",
    "arr3 = np.array(list3)\n",
    "arr3"
   ]
  },
  {
   "cell_type": "code",
   "execution_count": 14,
   "id": "ccbea18e-272a-45c3-bf58-8bbabba93cf7",
   "metadata": {},
   "outputs": [
    {
     "data": {
      "text/plain": [
       "(2, 3)"
      ]
     },
     "execution_count": 14,
     "metadata": {},
     "output_type": "execute_result"
    }
   ],
   "source": [
    "# Let's find the shape of that array\n",
    "# We have a 2d array with 2 elements in the first instance and 3 in the second\n",
    "arr3.shape"
   ]
  },
  {
   "cell_type": "markdown",
   "id": "94fad343-ae72-46e9-8d8c-ff86f5b33351",
   "metadata": {},
   "source": [
    "## 3-dimensional arrays"
   ]
  },
  {
   "cell_type": "code",
   "execution_count": 15,
   "id": "13a2dd90-14ac-4930-9f14-c3a74b3b3fb2",
   "metadata": {},
   "outputs": [
    {
     "data": {
      "text/plain": [
       "array([[[1, 2, 3],\n",
       "        [3, 4, 5]],\n",
       "\n",
       "       [[5, 6, 7],\n",
       "        [7, 8, 9]]])"
      ]
     },
     "execution_count": 15,
     "metadata": {},
     "output_type": "execute_result"
    }
   ],
   "source": [
    "arr3dim = np.array([[[1,2,3],[3,4,5]],[[5,6,7],[7,8,9]]])\n",
    "arr3dim"
   ]
  },
  {
   "cell_type": "code",
   "execution_count": 16,
   "id": "ee463377-20f0-453b-995d-d2fdb746b042",
   "metadata": {},
   "outputs": [
    {
     "data": {
      "text/plain": [
       "(2, 2, 3)"
      ]
     },
     "execution_count": 16,
     "metadata": {},
     "output_type": "execute_result"
    }
   ],
   "source": [
    "arr3dim.shape"
   ]
  },
  {
   "cell_type": "markdown",
   "id": "9b6e5e99-867a-46bd-8b76-0039467d16ec",
   "metadata": {},
   "source": [
    "## Using Arrays and Scalars\n",
    "\n",
    "Numpy arrays (or ndarray) allow us to perform matrix operations.|"
   ]
  },
  {
   "cell_type": "code",
   "execution_count": 17,
   "id": "3a10fc07-77dc-4a7e-a604-256a8c5f43c1",
   "metadata": {},
   "outputs": [
    {
     "data": {
      "text/plain": [
       "array([[[ 3,  6,  9],\n",
       "        [ 9, 12, 15]],\n",
       "\n",
       "       [[15, 18, 21],\n",
       "        [21, 24, 27]]])"
      ]
     },
     "execution_count": 17,
     "metadata": {},
     "output_type": "execute_result"
    }
   ],
   "source": [
    "# For example, we can use simple multiplication\n",
    "arr3dim * 3"
   ]
  },
  {
   "cell_type": "code",
   "execution_count": 18,
   "id": "94ab4a13-810a-4766-bfe1-1fb22a33c5f4",
   "metadata": {},
   "outputs": [
    {
     "data": {
      "text/plain": [
       "[10, 20, 30, 10, 20, 30, 10, 20, 30]"
      ]
     },
     "execution_count": 18,
     "metadata": {},
     "output_type": "execute_result"
    }
   ],
   "source": [
    "# How is this different than trying to do:\n",
    "list1 * 3\n",
    "# Lists and arrays are treated differently, see below:"
   ]
  },
  {
   "cell_type": "code",
   "execution_count": 19,
   "id": "0ae816fb-4197-4a58-b2cc-20d2ac8e4d3d",
   "metadata": {},
   "outputs": [
    {
     "data": {
      "text/plain": [
       "array([ 400, 1000, 1800])"
      ]
     },
     "execution_count": 19,
     "metadata": {},
     "output_type": "execute_result"
    }
   ],
   "source": [
    "# We can actually multiply an array with another array\n",
    "\n",
    "# Create a new array with the same size as arr1\n",
    "arr11 = np.array(list2)\n",
    "\n",
    "# Multiply the arrays, what will happen?\n",
    "arr1 * arr11"
   ]
  },
  {
   "cell_type": "markdown",
   "id": "d2ce5204-8e73-42ea-baa4-0a8d107c2867",
   "metadata": {},
   "source": [
    "# Can we multiply arrays of different shapes?"
   ]
  },
  {
   "cell_type": "code",
   "execution_count": 20,
   "id": "49508017-62a5-4a49-9ccb-69907aedc09a",
   "metadata": {},
   "outputs": [
    {
     "ename": "ValueError",
     "evalue": "operands could not be broadcast together with shapes (3,) (10,) ",
     "output_type": "error",
     "traceback": [
      "\u001b[0;31m---------------------------------------------------------------------------\u001b[0m",
      "\u001b[0;31mValueError\u001b[0m                                Traceback (most recent call last)",
      "Cell \u001b[0;32mIn[20], line 1\u001b[0m\n\u001b[0;32m----> 1\u001b[0m \u001b[43marr1\u001b[49m\u001b[43m \u001b[49m\u001b[38;5;241;43m*\u001b[39;49m\u001b[43m \u001b[49m\u001b[43marr2\u001b[49m\n",
      "\u001b[0;31mValueError\u001b[0m: operands could not be broadcast together with shapes (3,) (10,) "
     ]
    }
   ],
   "source": [
    "arr1 * arr2"
   ]
  },
  {
   "cell_type": "markdown",
   "id": "99914fd7-05b0-440e-80b5-7282ca42c733",
   "metadata": {},
   "source": [
    "The answer is NO!"
   ]
  },
  {
   "cell_type": "markdown",
   "id": "6ca9ac9b-3d63-4083-b40f-b813edc8aff4",
   "metadata": {},
   "source": [
    "### It is possible to multiply arrays of different dimensions, but they need the same element size!"
   ]
  },
  {
   "cell_type": "code",
   "execution_count": 21,
   "id": "d05e1781-5a79-4f4c-ae08-1c0a6b117996",
   "metadata": {},
   "outputs": [
    {
     "data": {
      "text/plain": [
       "array([[[ 10,  40,  90],\n",
       "        [ 30,  80, 150]],\n",
       "\n",
       "       [[ 50, 120, 210],\n",
       "        [ 70, 160, 270]]])"
      ]
     },
     "execution_count": 21,
     "metadata": {},
     "output_type": "execute_result"
    }
   ],
   "source": [
    "arr1 * arr3dim"
   ]
  },
  {
   "cell_type": "markdown",
   "id": "0ff91ee9-21af-408c-bc1d-70b32032bcd4",
   "metadata": {},
   "source": [
    "### Activity"
   ]
  },
  {
   "cell_type": "code",
   "execution_count": 23,
   "id": "f259133f-5a9d-4ae6-a707-716429dc6437",
   "metadata": {},
   "outputs": [
    {
     "data": {
      "text/plain": [
       "array([ 0,  1,  2,  3,  4,  5,  6,  7,  8,  9, 10, 11])"
      ]
     },
     "execution_count": 23,
     "metadata": {},
     "output_type": "execute_result"
    }
   ],
   "source": [
    "list12 = [ 0,  1,  2,  3,  4,  5,  6,  7,  8,  9, 10, 11]\n",
    "\n",
    "arr12 = np.array(list12)\n",
    "arr12"
   ]
  },
  {
   "cell_type": "code",
   "execution_count": 25,
   "id": "bea206b9-75b3-4d09-b848-1280ea6585e4",
   "metadata": {},
   "outputs": [
    {
     "data": {
      "text/plain": [
       "array([[ 0,  1,  2,  3],\n",
       "       [ 4,  5,  6,  7],\n",
       "       [ 8,  9, 10, 11]])"
      ]
     },
     "execution_count": 25,
     "metadata": {},
     "output_type": "execute_result"
    }
   ],
   "source": [
    "list34 = [[ 0,  1,  2,  3],\n",
    "          [ 4,  5,  6,  7],\n",
    " [ 8,  9, 10, 11]]\n",
    "arr34 = np.array(list34)\n",
    "arr34"
   ]
  },
  {
   "cell_type": "code",
   "execution_count": 26,
   "id": "b740e7ed-b999-4964-89d5-852e3c93ad90",
   "metadata": {},
   "outputs": [],
   "source": [
    "list254 = [\n",
    "    [\n",
    "        [0, 1, 2, 3],\n",
    "        [4, 5, 6, 7],\n",
    "        [8, 9, 10, 11],\n",
    "        [12, 13, 14, 15],\n",
    "        [16, 17, 18, 19]\n",
    "    ],\n",
    "    [\n",
    "        [20, 21, 22, 23],\n",
    "        [24, 25, 26, 27],\n",
    "        [28, 29, 30, 31],\n",
    "        [32, 33, 34, 35],\n",
    "        [36, 37, 38, 39]\n",
    "    ]\n",
    "]"
   ]
  },
  {
   "cell_type": "code",
   "execution_count": 27,
   "id": "96386e64-c469-48b4-a6a1-0ae45f9eff3f",
   "metadata": {},
   "outputs": [
    {
     "data": {
      "text/plain": [
       "array([[[ 0,  1,  2,  3],\n",
       "        [ 4,  5,  6,  7],\n",
       "        [ 8,  9, 10, 11],\n",
       "        [12, 13, 14, 15],\n",
       "        [16, 17, 18, 19]],\n",
       "\n",
       "       [[20, 21, 22, 23],\n",
       "        [24, 25, 26, 27],\n",
       "        [28, 29, 30, 31],\n",
       "        [32, 33, 34, 35],\n",
       "        [36, 37, 38, 39]]])"
      ]
     },
     "execution_count": 27,
     "metadata": {},
     "output_type": "execute_result"
    }
   ],
   "source": [
    "arr254 = np.array(list254)\n",
    "arr254"
   ]
  },
  {
   "cell_type": "markdown",
   "id": "08f35018-c9d0-428c-a5bb-e3b424eed1c1",
   "metadata": {},
   "source": [
    "### Accessing the values inside ndarrays\n",
    "\n",
    "Let's take arr3 example, this was a 2d array"
   ]
  },
  {
   "cell_type": "code",
   "execution_count": 28,
   "id": "f376efe1-6db0-4ae2-80d2-13e01e759362",
   "metadata": {},
   "outputs": [
    {
     "data": {
      "text/plain": [
       "array([[10, 20, 30],\n",
       "       [40, 50, 60]])"
      ]
     },
     "execution_count": 28,
     "metadata": {},
     "output_type": "execute_result"
    }
   ],
   "source": [
    "# How can we access the 60?\n",
    "arr3"
   ]
  },
  {
   "cell_type": "code",
   "execution_count": 29,
   "id": "38f047e1-ef8d-4ab9-bb14-7098f4376541",
   "metadata": {},
   "outputs": [],
   "source": [
    "# We can use indexing"
   ]
  },
  {
   "cell_type": "code",
   "execution_count": 30,
   "id": "29310bde-ddc2-479e-a19d-c6c01ce246f3",
   "metadata": {},
   "outputs": [
    {
     "data": {
      "text/plain": [
       "60"
      ]
     },
     "execution_count": 30,
     "metadata": {},
     "output_type": "execute_result"
    }
   ],
   "source": [
    "arr3[1][2]"
   ]
  },
  {
   "cell_type": "code",
   "execution_count": 31,
   "id": "dcbf1765-9e66-48bd-8368-a47d4a3f62ec",
   "metadata": {},
   "outputs": [
    {
     "data": {
      "text/plain": [
       "60"
      ]
     },
     "execution_count": 31,
     "metadata": {},
     "output_type": "execute_result"
    }
   ],
   "source": [
    "#We can just use a comma!\n",
    "arr3[1,2]"
   ]
  },
  {
   "cell_type": "code",
   "execution_count": 32,
   "id": "e76174b8-adfa-403e-a155-42418a58c8b0",
   "metadata": {},
   "outputs": [],
   "source": [
    "# How can I get the bottom row of this ndarray?"
   ]
  },
  {
   "cell_type": "code",
   "execution_count": 33,
   "id": "36964dc0-3e1e-46e3-966b-b51d6b55d5c5",
   "metadata": {},
   "outputs": [
    {
     "data": {
      "text/plain": [
       "array([40, 50, 60])"
      ]
     },
     "execution_count": 33,
     "metadata": {},
     "output_type": "execute_result"
    }
   ],
   "source": [
    "arr3[1]"
   ]
  },
  {
   "cell_type": "code",
   "execution_count": 34,
   "id": "f1961d43-ab9a-46b2-bba1-b1a52e5acded",
   "metadata": {},
   "outputs": [],
   "source": [
    "#How about if we just want the last COLUMN?\n",
    "#Means everything, so see below:"
   ]
  },
  {
   "cell_type": "code",
   "execution_count": 35,
   "id": "5a019231-49ac-4a19-9a33-ef7b2015dc43",
   "metadata": {},
   "outputs": [
    {
     "data": {
      "text/plain": [
       "array([30, 60])"
      ]
     },
     "execution_count": 35,
     "metadata": {},
     "output_type": "execute_result"
    }
   ],
   "source": [
    "arr3[:,2]"
   ]
  },
  {
   "cell_type": "markdown",
   "id": "f00ec530-4da3-4d46-be8e-5db5b7870019",
   "metadata": {},
   "source": [
    "### Statistical functions and arrays\n",
    "\n",
    "There are a number of builtin statistical functions we can use with numpy"
   ]
  },
  {
   "cell_type": "code",
   "execution_count": 36,
   "id": "9b324043-b657-47f5-86cb-4996c2ccd07f",
   "metadata": {},
   "outputs": [
    {
     "data": {
      "text/plain": [
       "210"
      ]
     },
     "execution_count": 36,
     "metadata": {},
     "output_type": "execute_result"
    }
   ],
   "source": [
    "# Finding the sum of all values\n",
    "arr3.sum()"
   ]
  },
  {
   "cell_type": "code",
   "execution_count": 37,
   "id": "71d99f63-12c1-4b24-bfe4-c28821b18b6c",
   "metadata": {},
   "outputs": [
    {
     "data": {
      "text/plain": [
       "array([50, 70, 90])"
      ]
     },
     "execution_count": 37,
     "metadata": {},
     "output_type": "execute_result"
    }
   ],
   "source": [
    "# Finding the sum of all columns\n",
    "arr3.sum(0)"
   ]
  },
  {
   "cell_type": "code",
   "execution_count": 38,
   "id": "2bc847b0-3bc6-422a-b42a-fe7d8ccc2aec",
   "metadata": {},
   "outputs": [
    {
     "data": {
      "text/plain": [
       "array([ 60, 150])"
      ]
     },
     "execution_count": 38,
     "metadata": {},
     "output_type": "execute_result"
    }
   ],
   "source": [
    "# Finding the sum of all rows\n",
    "arr3.sum(1)"
   ]
  },
  {
   "cell_type": "code",
   "execution_count": 39,
   "id": "ad13acd8-f1b5-4f21-9c1e-6189b4a5898b",
   "metadata": {},
   "outputs": [
    {
     "data": {
      "text/plain": [
       "35.0"
      ]
     },
     "execution_count": 39,
     "metadata": {},
     "output_type": "execute_result"
    }
   ],
   "source": [
    "#Finding the mean\n",
    "arr3.mean()"
   ]
  },
  {
   "cell_type": "code",
   "execution_count": 40,
   "id": "8f1c9260-6d2e-4eea-91cb-e71eedfab5d9",
   "metadata": {},
   "outputs": [
    {
     "data": {
      "text/plain": [
       "17.07825127659933"
      ]
     },
     "execution_count": 40,
     "metadata": {},
     "output_type": "execute_result"
    }
   ],
   "source": [
    "# Fining standard deviation\n",
    "arr3.std()"
   ]
  },
  {
   "cell_type": "code",
   "execution_count": 41,
   "id": "a5e7f070-d75b-48d4-a790-e7c134794223",
   "metadata": {},
   "outputs": [
    {
     "data": {
      "text/plain": [
       "291.6666666666667"
      ]
     },
     "execution_count": 41,
     "metadata": {},
     "output_type": "execute_result"
    }
   ],
   "source": [
    "# Finding variance\n",
    "arr3.var()"
   ]
  },
  {
   "cell_type": "code",
   "execution_count": 42,
   "id": "be6dfea3-49f5-4a83-a427-cbbaa34e1412",
   "metadata": {},
   "outputs": [
    {
     "data": {
      "text/plain": [
       "10"
      ]
     },
     "execution_count": 42,
     "metadata": {},
     "output_type": "execute_result"
    }
   ],
   "source": [
    "# Finding min\n",
    "arr3.min()"
   ]
  },
  {
   "cell_type": "code",
   "execution_count": 43,
   "id": "3bc4bc86-786c-4c0c-9113-39583f6dad42",
   "metadata": {},
   "outputs": [
    {
     "data": {
      "text/plain": [
       "60"
      ]
     },
     "execution_count": 43,
     "metadata": {},
     "output_type": "execute_result"
    }
   ],
   "source": [
    "# Finding max\n",
    "arr3.max()"
   ]
  },
  {
   "cell_type": "markdown",
   "id": "2ba0417b-961a-4d66-8188-da22e4c20828",
   "metadata": {},
   "source": [
    "## Iterating through ndarrays\n",
    "\n",
    "Simplest way is to use a simple loop"
   ]
  },
  {
   "cell_type": "code",
   "execution_count": 44,
   "id": "d09b4ddc-5e35-411a-9f02-bc129ecc374a",
   "metadata": {},
   "outputs": [],
   "source": [
    "# For a 1d array"
   ]
  },
  {
   "cell_type": "code",
   "execution_count": 45,
   "id": "9e146b04-16a3-45b2-86c1-d10c2f76dd58",
   "metadata": {},
   "outputs": [
    {
     "name": "stdout",
     "output_type": "stream",
     "text": [
      "10\n",
      "20\n",
      "30\n"
     ]
    }
   ],
   "source": [
    "for x in arr1:\n",
    "    print(x)"
   ]
  },
  {
   "cell_type": "code",
   "execution_count": 47,
   "id": "d558d734-747e-43d5-8af7-a82ec1594dca",
   "metadata": {},
   "outputs": [],
   "source": [
    "# How about an n-dimensional array? Use nested loops"
   ]
  },
  {
   "cell_type": "code",
   "execution_count": 48,
   "id": "c678ab33-399a-43ad-92cf-874125cdd2ec",
   "metadata": {},
   "outputs": [
    {
     "name": "stdout",
     "output_type": "stream",
     "text": [
      "10\n",
      "20\n",
      "30\n",
      "40\n",
      "50\n",
      "60\n"
     ]
    }
   ],
   "source": [
    "for dim in arr3:\n",
    "    for num in dim:\n",
    "        print(num)"
   ]
  },
  {
   "cell_type": "code",
   "execution_count": 49,
   "id": "76edfc83-c084-40f0-8e9f-81fa43331a38",
   "metadata": {},
   "outputs": [],
   "source": [
    "# There is another way! we can use nditer"
   ]
  },
  {
   "cell_type": "code",
   "execution_count": 50,
   "id": "d613e459-6e8c-4c2d-9203-83b8e84c12b4",
   "metadata": {},
   "outputs": [],
   "source": [
    "# This can be used in simple scenarios, but also very complex ones"
   ]
  },
  {
   "cell_type": "code",
   "execution_count": 51,
   "id": "cd9036d4-5964-4a10-a6c0-bb08bbc7e6bb",
   "metadata": {},
   "outputs": [],
   "source": [
    "# It tends to be much cleaner for nested loops"
   ]
  },
  {
   "cell_type": "code",
   "execution_count": 52,
   "id": "08a0bab4-b7b6-4367-9b93-8cb15b310e93",
   "metadata": {},
   "outputs": [
    {
     "name": "stdout",
     "output_type": "stream",
     "text": [
      "10\n",
      "20\n",
      "30\n",
      "40\n",
      "50\n",
      "60\n"
     ]
    }
   ],
   "source": [
    "for x in np.nditer(arr3):\n",
    "    print(x)"
   ]
  },
  {
   "cell_type": "markdown",
   "id": "c2cc9cf7-7e76-4c5c-a7b5-715c09dba4f4",
   "metadata": {},
   "source": [
    "### Saving and loading in numpy"
   ]
  },
  {
   "cell_type": "code",
   "execution_count": 54,
   "id": "6551ce6d-aae5-481d-b734-e4b9c417e20b",
   "metadata": {},
   "outputs": [],
   "source": [
    "# To save an array as a file\n",
    "np.save(\"new\", arr3)"
   ]
  },
  {
   "cell_type": "code",
   "execution_count": 55,
   "id": "f8df6bde-80f8-4f5b-9217-b5328e64ec35",
   "metadata": {},
   "outputs": [],
   "source": [
    "# Load a file"
   ]
  },
  {
   "cell_type": "code",
   "execution_count": 56,
   "id": "0bc7825f-e3ed-4cd7-aa48-a072000c410a",
   "metadata": {},
   "outputs": [
    {
     "data": {
      "text/plain": [
       "array([[10, 20, 30],\n",
       "       [40, 50, 60]])"
      ]
     },
     "execution_count": 56,
     "metadata": {},
     "output_type": "execute_result"
    }
   ],
   "source": [
    "np.load(\"new.npy\")"
   ]
  },
  {
   "cell_type": "code",
   "execution_count": 57,
   "id": "83b4e793-e1ac-4dc7-accb-e380b4a8d24b",
   "metadata": {},
   "outputs": [],
   "source": [
    "# Saving as a txt"
   ]
  },
  {
   "cell_type": "code",
   "execution_count": 58,
   "id": "e2727f27-9f83-4ba0-af45-bd1d36de7d3b",
   "metadata": {},
   "outputs": [],
   "source": [
    "np.savetxt(\"new.txt\", arr3, delimiter=\",\")"
   ]
  },
  {
   "cell_type": "code",
   "execution_count": 59,
   "id": "9b0c459f-3823-4792-8eb2-9b1605c150df",
   "metadata": {},
   "outputs": [],
   "source": [
    "# Loading a txt"
   ]
  },
  {
   "cell_type": "code",
   "execution_count": 60,
   "id": "cdf99f2c-f441-4f3d-9eb8-6bda56b28aab",
   "metadata": {},
   "outputs": [
    {
     "data": {
      "text/plain": [
       "array([[10., 20., 30.],\n",
       "       [40., 50., 60.]])"
      ]
     },
     "execution_count": 60,
     "metadata": {},
     "output_type": "execute_result"
    }
   ],
   "source": [
    "np.loadtxt(\"new.txt\", delimiter=\",\")"
   ]
  },
  {
   "cell_type": "code",
   "execution_count": null,
   "id": "ea61db91-92d5-434c-b885-bdfa0ff2ff21",
   "metadata": {},
   "outputs": [],
   "source": []
  }
 ],
 "metadata": {
  "kernelspec": {
   "display_name": "Python 3 (ipykernel)",
   "language": "python",
   "name": "python3"
  },
  "language_info": {
   "codemirror_mode": {
    "name": "ipython",
    "version": 3
   },
   "file_extension": ".py",
   "mimetype": "text/x-python",
   "name": "python",
   "nbconvert_exporter": "python",
   "pygments_lexer": "ipython3",
   "version": "3.12.2"
  }
 },
 "nbformat": 4,
 "nbformat_minor": 5
}
