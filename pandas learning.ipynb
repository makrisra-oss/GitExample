{
 "cells": [
  {
   "cell_type": "markdown",
   "id": "8f66c5cc-89e3-4cf7-8f43-9d734a8a26be",
   "metadata": {},
   "source": [
    "# Intro to Pandas"
   ]
  },
  {
   "cell_type": "markdown",
   "id": "cde5c3f3-b39e-443f-b524-8ae45b58ea2c",
   "metadata": {},
   "source": [
    "Pandas is a high-level data manipulation package which was built on top of Numpy. The key structures within pandas include Series and Dataframes."
   ]
  },
  {
   "cell_type": "markdown",
   "id": "37dcb27b-9291-4c33-8451-aa0af776809d",
   "metadata": {},
   "source": [
    "## Series\n",
    "\n",
    "A series is a one-dimensional array with axis labels (an index)."
   ]
  },
  {
   "cell_type": "code",
   "execution_count": 1,
   "id": "ce367cb5-167d-40fc-a99f-6c4fbccc5202",
   "metadata": {},
   "outputs": [],
   "source": [
    "# Importing libraries and packages\n",
    "\n",
    "import numpy as np\n",
    "import pandas as pd\n",
    "from pandas import Series, DataFrame"
   ]
  },
  {
   "cell_type": "code",
   "execution_count": 3,
   "id": "df4fc21a-4fcb-49cf-84b9-92c5a89543bb",
   "metadata": {},
   "outputs": [
    {
     "data": {
      "text/plain": [
       "0    10\n",
       "1    20\n",
       "2    30\n",
       "3    40\n",
       "4    50\n",
       "dtype: int64"
      ]
     },
     "execution_count": 3,
     "metadata": {},
     "output_type": "execute_result"
    }
   ],
   "source": [
    "# Creating a Series from a list\n",
    "x = pd.Series([10,20,30,40,50])\n",
    "x"
   ]
  },
  {
   "cell_type": "code",
   "execution_count": 4,
   "id": "a2938b0d-5dfc-4d18-b974-4774b79e60e1",
   "metadata": {},
   "outputs": [],
   "source": [
    "# We can access different components separately:"
   ]
  },
  {
   "cell_type": "code",
   "execution_count": 5,
   "id": "f7ff7304-719b-48cb-ba96-c8cd53239e8d",
   "metadata": {},
   "outputs": [
    {
     "data": {
      "text/plain": [
       "RangeIndex(start=0, stop=5, step=1)"
      ]
     },
     "execution_count": 5,
     "metadata": {},
     "output_type": "execute_result"
    }
   ],
   "source": [
    "#Accessing the index\n",
    "x.index"
   ]
  },
  {
   "cell_type": "code",
   "execution_count": 6,
   "id": "5d6a7369-e6c6-460a-9360-99b7d8747078",
   "metadata": {},
   "outputs": [],
   "source": [
    "# Accessing values"
   ]
  },
  {
   "cell_type": "code",
   "execution_count": 7,
   "id": "114e79e7-2a00-482c-9298-6446ac637de1",
   "metadata": {},
   "outputs": [
    {
     "data": {
      "text/plain": [
       "array([10, 20, 30, 40, 50])"
      ]
     },
     "execution_count": 7,
     "metadata": {},
     "output_type": "execute_result"
    }
   ],
   "source": [
    "x.values"
   ]
  },
  {
   "cell_type": "code",
   "execution_count": 8,
   "id": "5ee7c5ed-8881-4c95-b30f-8651a69ef747",
   "metadata": {},
   "outputs": [],
   "source": [
    "# Accessing the dtype"
   ]
  },
  {
   "cell_type": "code",
   "execution_count": 9,
   "id": "e7d55a5c-441b-439b-9a21-779d54e8efd0",
   "metadata": {},
   "outputs": [],
   "source": [
    "# A Series is an ndarray, thus it's homogenous and CANNOT store multiple dtypes"
   ]
  },
  {
   "cell_type": "code",
   "execution_count": 10,
   "id": "3ecbbdf0-1505-4671-9ef5-8aeb9f9e313b",
   "metadata": {},
   "outputs": [
    {
     "data": {
      "text/plain": [
       "dtype('int64')"
      ]
     },
     "execution_count": 10,
     "metadata": {},
     "output_type": "execute_result"
    }
   ],
   "source": [
    "x.dtype"
   ]
  },
  {
   "cell_type": "code",
   "execution_count": 11,
   "id": "07315691-f2af-46c0-abd2-b5a8f521589d",
   "metadata": {},
   "outputs": [
    {
     "data": {
      "text/plain": [
       "Don      450\n",
       "Mike     650\n",
       "Edwin    870\n",
       "dtype: int64"
      ]
     },
     "execution_count": 11,
     "metadata": {},
     "output_type": "execute_result"
    }
   ],
   "source": [
    "# Creating a Series with an Index\n",
    "data = [450, 650, 870]\n",
    "Sales = Series(data, index=[\"Don\", \"Mike\", \"Edwin\"])\n",
    "Sales"
   ]
  },
  {
   "cell_type": "code",
   "execution_count": 12,
   "id": "d80bc8f6-8705-4de6-a158-110528d9da94",
   "metadata": {},
   "outputs": [
    {
     "data": {
      "text/plain": [
       "pandas.core.series.Series"
      ]
     },
     "execution_count": 12,
     "metadata": {},
     "output_type": "execute_result"
    }
   ],
   "source": [
    "# Check the type\n",
    "type(Sales)"
   ]
  },
  {
   "cell_type": "code",
   "execution_count": 13,
   "id": "27fd019e-7c00-4cb6-b310-c6accb2dff44",
   "metadata": {},
   "outputs": [
    {
     "data": {
      "text/plain": [
       "Index(['Don', 'Mike', 'Edwin'], dtype='object')"
      ]
     },
     "execution_count": 13,
     "metadata": {},
     "output_type": "execute_result"
    }
   ],
   "source": [
    "# If we check the index of Sales, we will get the values, rather than the range. Because it's a string.\n",
    "Sales.index"
   ]
  },
  {
   "cell_type": "markdown",
   "id": "6787ebfc-77a5-4636-9fea-b3fd02853a48",
   "metadata": {},
   "source": [
    "## Accessing Values"
   ]
  },
  {
   "cell_type": "code",
   "execution_count": 14,
   "id": "88dc5c0f-d983-4b86-8dd1-a82f1e2e837c",
   "metadata": {},
   "outputs": [
    {
     "data": {
      "text/plain": [
       "450"
      ]
     },
     "execution_count": 14,
     "metadata": {},
     "output_type": "execute_result"
    }
   ],
   "source": [
    "# You can access values using the index name\n",
    "Sales[\"Don\"]"
   ]
  },
  {
   "cell_type": "code",
   "execution_count": 15,
   "id": "3342276b-55b7-42d9-9b04-86a587902360",
   "metadata": {},
   "outputs": [],
   "source": [
    "#You can still use traditional indexing"
   ]
  },
  {
   "cell_type": "code",
   "execution_count": 16,
   "id": "4565474e-2d45-42b7-8039-1fc9d92acfc3",
   "metadata": {},
   "outputs": [
    {
     "name": "stderr",
     "output_type": "stream",
     "text": [
      "/var/folders/65/jy4lt7y15c1bbj4rg1q8nnjh0000gn/T/ipykernel_33574/925086647.py:1: FutureWarning: Series.__getitem__ treating keys as positions is deprecated. In a future version, integer keys will always be treated as labels (consistent with DataFrame behavior). To access a value by position, use `ser.iloc[pos]`\n",
      "  Sales[0]\n"
     ]
    },
    {
     "data": {
      "text/plain": [
       "450"
      ]
     },
     "execution_count": 16,
     "metadata": {},
     "output_type": "execute_result"
    }
   ],
   "source": [
    "Sales[0]"
   ]
  },
  {
   "cell_type": "markdown",
   "id": "024c3829-008a-44f9-b42c-b3be1f736365",
   "metadata": {},
   "source": [
    "## Checking for conditions"
   ]
  },
  {
   "cell_type": "code",
   "execution_count": 17,
   "id": "13496085-a3a7-4204-9872-87eede1118ea",
   "metadata": {},
   "outputs": [],
   "source": [
    "# You can filter based on conditions."
   ]
  },
  {
   "cell_type": "code",
   "execution_count": 19,
   "id": "f0e9c177-b61d-4759-820e-e44f1d1bf552",
   "metadata": {},
   "outputs": [
    {
     "data": {
      "text/plain": [
       "Don      False\n",
       "Mike      True\n",
       "Edwin     True\n",
       "dtype: bool"
      ]
     },
     "execution_count": 19,
     "metadata": {},
     "output_type": "execute_result"
    }
   ],
   "source": [
    "Sales > 500\n",
    "#This will usually return booleans"
   ]
  },
  {
   "cell_type": "code",
   "execution_count": 20,
   "id": "8779d7e9-1bd7-49d3-bb68-27f53082f841",
   "metadata": {},
   "outputs": [],
   "source": [
    "# We can use these booleans"
   ]
  },
  {
   "cell_type": "code",
   "execution_count": 21,
   "id": "477ace50-9eab-4f04-a29d-95bb5bba7cda",
   "metadata": {},
   "outputs": [
    {
     "data": {
      "text/plain": [
       "Mike     650\n",
       "Edwin    870\n",
       "dtype: int64"
      ]
     },
     "execution_count": 21,
     "metadata": {},
     "output_type": "execute_result"
    }
   ],
   "source": [
    "Sales[[False, True, True]]"
   ]
  },
  {
   "cell_type": "code",
   "execution_count": 22,
   "id": "11d3593e-abac-4c2e-a483-fd1e5e2c3ea6",
   "metadata": {},
   "outputs": [],
   "source": [
    "# If we want to see values greater than 500, we can use booleans"
   ]
  },
  {
   "cell_type": "code",
   "execution_count": 23,
   "id": "b83ebf06-9356-49d3-a919-a92d89472a73",
   "metadata": {},
   "outputs": [
    {
     "data": {
      "text/plain": [
       "Mike     650\n",
       "Edwin    870\n",
       "dtype: int64"
      ]
     },
     "execution_count": 23,
     "metadata": {},
     "output_type": "execute_result"
    }
   ],
   "source": [
    "Sales[Sales>500]"
   ]
  },
  {
   "cell_type": "code",
   "execution_count": 24,
   "id": "06ba8f77-a065-4ca7-8078-9f94c36fdb00",
   "metadata": {},
   "outputs": [],
   "source": [
    "# False example"
   ]
  },
  {
   "cell_type": "code",
   "execution_count": 25,
   "id": "599d6e43-8df3-4d1d-a156-787ae8102917",
   "metadata": {},
   "outputs": [
    {
     "data": {
      "text/plain": [
       "False"
      ]
     },
     "execution_count": 25,
     "metadata": {},
     "output_type": "execute_result"
    }
   ],
   "source": [
    "\"Sally\" in Sales"
   ]
  },
  {
   "cell_type": "code",
   "execution_count": 26,
   "id": "71b92f6d-7773-44bd-8ce9-b6ee7abf4913",
   "metadata": {},
   "outputs": [],
   "source": [
    "# What about this?"
   ]
  },
  {
   "cell_type": "code",
   "execution_count": 27,
   "id": "9abef4b6-84c9-4633-8c00-cc322e3c6a50",
   "metadata": {},
   "outputs": [
    {
     "data": {
      "text/plain": [
       "False"
      ]
     },
     "execution_count": 27,
     "metadata": {},
     "output_type": "execute_result"
    }
   ],
   "source": [
    "450 in Sales"
   ]
  },
  {
   "cell_type": "code",
   "execution_count": 28,
   "id": "beff8e24-fa69-4d97-bb62-95a22b351a77",
   "metadata": {},
   "outputs": [],
   "source": [
    "#450 is not an index, it's a value. Thus it will return False."
   ]
  },
  {
   "cell_type": "markdown",
   "id": "05c235f3-0236-4c21-9abb-65acd909aa27",
   "metadata": {},
   "source": [
    "# Working with Dictionaries"
   ]
  },
  {
   "cell_type": "code",
   "execution_count": 29,
   "id": "625e1cb7-81ce-4bc5-a96f-7814c71e57c2",
   "metadata": {},
   "outputs": [],
   "source": [
    "#Converting a Series to a dictionary\n",
    "sales_dict = Sales.to_dict()"
   ]
  },
  {
   "cell_type": "code",
   "execution_count": 30,
   "id": "87c1ed35-9403-4e9f-ba36-a322bf340c0b",
   "metadata": {},
   "outputs": [
    {
     "data": {
      "text/plain": [
       "{'Don': 450, 'Mike': 650, 'Edwin': 870}"
      ]
     },
     "execution_count": 30,
     "metadata": {},
     "output_type": "execute_result"
    }
   ],
   "source": [
    "sales_dict"
   ]
  },
  {
   "cell_type": "code",
   "execution_count": 31,
   "id": "c59e759c-5360-4e44-b70a-23e248ff1a28",
   "metadata": {},
   "outputs": [],
   "source": [
    "#Converting a dict to a series"
   ]
  },
  {
   "cell_type": "code",
   "execution_count": 32,
   "id": "25da326a-867e-4130-b0b0-39f3a01b5559",
   "metadata": {},
   "outputs": [],
   "source": [
    "sales_ser = Series(sales_dict)"
   ]
  },
  {
   "cell_type": "code",
   "execution_count": 33,
   "id": "fdca7076-8443-4c0d-a9d1-fd0161e4814d",
   "metadata": {},
   "outputs": [
    {
     "data": {
      "text/plain": [
       "Don      450\n",
       "Mike     650\n",
       "Edwin    870\n",
       "dtype: int64"
      ]
     },
     "execution_count": 33,
     "metadata": {},
     "output_type": "execute_result"
    }
   ],
   "source": [
    "sales_ser"
   ]
  },
  {
   "cell_type": "markdown",
   "id": "13b65ac2-0f3d-4f21-8d40-cbd7cd0c5a1c",
   "metadata": {},
   "source": [
    "### Adding entries and working with NaN/null values"
   ]
  },
  {
   "cell_type": "code",
   "execution_count": 34,
   "id": "d566013d-87e0-4b7d-8f2c-0bfce0220857",
   "metadata": {},
   "outputs": [],
   "source": [
    "# We can create a new Series from an existing Series"
   ]
  },
  {
   "cell_type": "code",
   "execution_count": 35,
   "id": "b259f926-0de6-4fac-ab5c-7c026ca27b3f",
   "metadata": {},
   "outputs": [],
   "source": [
    "#If we specify names in the index that were NOT there already, NaN values will be asigned\n",
    "new_sales = Series(Sales, index=[\"Don\", \"Mike\", \"Sally\", \"Edwin\", \"Lucy\"])"
   ]
  },
  {
   "cell_type": "code",
   "execution_count": 36,
   "id": "c676e3fe-a9b3-47c1-ad6b-3c7f88073f31",
   "metadata": {},
   "outputs": [
    {
     "data": {
      "text/plain": [
       "Don      450.0\n",
       "Mike     650.0\n",
       "Sally      NaN\n",
       "Edwin    870.0\n",
       "Lucy       NaN\n",
       "dtype: float64"
      ]
     },
     "execution_count": 36,
     "metadata": {},
     "output_type": "execute_result"
    }
   ],
   "source": [
    "new_sales"
   ]
  },
  {
   "cell_type": "code",
   "execution_count": 37,
   "id": "f9b6ae12-584c-4e7f-93e9-2484b7972366",
   "metadata": {},
   "outputs": [],
   "source": [
    "# We can check if there are any NaN values in a Series\n",
    "# For this we use Numpy!"
   ]
  },
  {
   "cell_type": "code",
   "execution_count": 38,
   "id": "0223c43c-8b41-45a7-b654-40105e83fb0c",
   "metadata": {},
   "outputs": [
    {
     "data": {
      "text/plain": [
       "Don      False\n",
       "Mike     False\n",
       "Sally     True\n",
       "Edwin    False\n",
       "Lucy      True\n",
       "dtype: bool"
      ]
     },
     "execution_count": 38,
     "metadata": {},
     "output_type": "execute_result"
    }
   ],
   "source": [
    "np.isnan(new_sales)"
   ]
  },
  {
   "cell_type": "code",
   "execution_count": 39,
   "id": "5a26d6c1-6e56-4703-bab9-bae7159649da",
   "metadata": {},
   "outputs": [
    {
     "data": {
      "text/plain": [
       "Don      False\n",
       "Mike     False\n",
       "Sally     True\n",
       "Edwin    False\n",
       "Lucy      True\n",
       "dtype: bool"
      ]
     },
     "execution_count": 39,
     "metadata": {},
     "output_type": "execute_result"
    }
   ],
   "source": [
    "#To check for null values, use Pandas!\n",
    "pd.isnull(new_sales)"
   ]
  },
  {
   "cell_type": "markdown",
   "id": "01a78823-ed18-4c2a-8a13-5f69dd4dc5b6",
   "metadata": {},
   "source": [
    "### Naming components"
   ]
  },
  {
   "cell_type": "code",
   "execution_count": 43,
   "id": "4fb4b20f-dae9-4337-a1af-718069913821",
   "metadata": {},
   "outputs": [
    {
     "data": {
      "text/plain": [
       "Sales person\n",
       "Don      450\n",
       "Mike     650\n",
       "Edwin    870\n",
       "Name: Total tv sales, dtype: int64"
      ]
     },
     "execution_count": 43,
     "metadata": {},
     "output_type": "execute_result"
    }
   ],
   "source": [
    "# Name an index\n",
    "Sales.index.name = \"Sales person\"\n",
    "Sales"
   ]
  },
  {
   "cell_type": "code",
   "execution_count": 42,
   "id": "73eeea6a-8934-4a95-a4f7-cf8690afa2db",
   "metadata": {},
   "outputs": [
    {
     "data": {
      "text/plain": [
       "Don      450\n",
       "Mike     650\n",
       "Edwin    870\n",
       "Name: Total tv sales, dtype: int64"
      ]
     },
     "execution_count": 42,
     "metadata": {},
     "output_type": "execute_result"
    }
   ],
   "source": [
    "# Naming a Series\n",
    "Sales.name = \"Total tv sales\"\n",
    "Sales"
   ]
  },
  {
   "cell_type": "markdown",
   "id": "1c1e50eb-e8f8-4da9-839b-faeebb1f588c",
   "metadata": {},
   "source": [
    "## DataFrames\n",
    "\n",
    "DataFrames are two-dimensional, size-mutable, potentially heterogeneous tabular data structures..."
   ]
  },
  {
   "cell_type": "markdown",
   "id": "8b91fb33-a3aa-41ca-9002-107aee30d8bb",
   "metadata": {},
   "source": [
    "## Creating a DataFrame"
   ]
  },
  {
   "cell_type": "code",
   "execution_count": 51,
   "id": "e82b1c36-b2b9-46e4-a5cf-9c78117c37c2",
   "metadata": {},
   "outputs": [
    {
     "data": {
      "text/html": [
       "<div>\n",
       "<style scoped>\n",
       "    .dataframe tbody tr th:only-of-type {\n",
       "        vertical-align: middle;\n",
       "    }\n",
       "\n",
       "    .dataframe tbody tr th {\n",
       "        vertical-align: top;\n",
       "    }\n",
       "\n",
       "    .dataframe thead th {\n",
       "        text-align: right;\n",
       "    }\n",
       "</style>\n",
       "<table border=\"1\" class=\"dataframe\">\n",
       "  <thead>\n",
       "    <tr style=\"text-align: right;\">\n",
       "      <th></th>\n",
       "      <th>Name</th>\n",
       "      <th>Age</th>\n",
       "    </tr>\n",
       "  </thead>\n",
       "  <tbody>\n",
       "    <tr>\n",
       "      <th>0</th>\n",
       "      <td>Adrian</td>\n",
       "      <td>20</td>\n",
       "    </tr>\n",
       "    <tr>\n",
       "      <th>1</th>\n",
       "      <td>Bethany</td>\n",
       "      <td>23</td>\n",
       "    </tr>\n",
       "    <tr>\n",
       "      <th>2</th>\n",
       "      <td>Chloe</td>\n",
       "      <td>41</td>\n",
       "    </tr>\n",
       "  </tbody>\n",
       "</table>\n",
       "</div>"
      ],
      "text/plain": [
       "      Name  Age\n",
       "0   Adrian   20\n",
       "1  Bethany   23\n",
       "2    Chloe   41"
      ]
     },
     "execution_count": 51,
     "metadata": {},
     "output_type": "execute_result"
    }
   ],
   "source": [
    "#Creating a DataFrame from a list\n",
    "data = [[\"Adrian\", 20], [\"Bethany\", 23], [\"Chloe\", 41]]\n",
    "\n",
    "#When we create a DataFrame, we can specify what the column names are and the data type is\n",
    "\n",
    "df = pd.DataFrame(data, columns=[\"Name\", \"Age\"])\n",
    "df"
   ]
  },
  {
   "cell_type": "code",
   "execution_count": 53,
   "id": "c85304fc-8f8a-430b-a72b-a128afc11adf",
   "metadata": {},
   "outputs": [
    {
     "data": {
      "text/html": [
       "<div>\n",
       "<style scoped>\n",
       "    .dataframe tbody tr th:only-of-type {\n",
       "        vertical-align: middle;\n",
       "    }\n",
       "\n",
       "    .dataframe tbody tr th {\n",
       "        vertical-align: top;\n",
       "    }\n",
       "\n",
       "    .dataframe thead th {\n",
       "        text-align: right;\n",
       "    }\n",
       "</style>\n",
       "<table border=\"1\" class=\"dataframe\">\n",
       "  <thead>\n",
       "    <tr style=\"text-align: right;\">\n",
       "      <th></th>\n",
       "      <th>Name</th>\n",
       "      <th>Age</th>\n",
       "      <th>City</th>\n",
       "      <th>Occupation</th>\n",
       "    </tr>\n",
       "  </thead>\n",
       "  <tbody>\n",
       "    <tr>\n",
       "      <th>0</th>\n",
       "      <td>Alice</td>\n",
       "      <td>30</td>\n",
       "      <td>London</td>\n",
       "      <td>Engineer</td>\n",
       "    </tr>\n",
       "    <tr>\n",
       "      <th>1</th>\n",
       "      <td>Bob</td>\n",
       "      <td>25</td>\n",
       "      <td>Manchester</td>\n",
       "      <td>Doctor</td>\n",
       "    </tr>\n",
       "    <tr>\n",
       "      <th>2</th>\n",
       "      <td>Charlie</td>\n",
       "      <td>35</td>\n",
       "      <td>Birmingham</td>\n",
       "      <td>Artist</td>\n",
       "    </tr>\n",
       "  </tbody>\n",
       "</table>\n",
       "</div>"
      ],
      "text/plain": [
       "      Name  Age        City Occupation\n",
       "0    Alice   30      London   Engineer\n",
       "1      Bob   25  Manchester     Doctor\n",
       "2  Charlie   35  Birmingham     Artist"
      ]
     },
     "execution_count": 53,
     "metadata": {},
     "output_type": "execute_result"
    }
   ],
   "source": [
    "#Creating a DF from a dictionary \n",
    "# Dictionary with sample data\n",
    "data = {\n",
    "    \"Name\": [\"Alice\", \"Bob\", \"Charlie\"],\n",
    "    \"Age\": [30, 25, 35],\n",
    "    \"City\": [\"London\", \"Manchester\", \"Birmingham\"],\n",
    "    \"Occupation\": [\"Engineer\", \"Doctor\", \"Artist\"]\n",
    "}\n",
    "\n",
    "df = pd.DataFrame(data)\n",
    "df"
   ]
  },
  {
   "cell_type": "code",
   "execution_count": 54,
   "id": "22b88508-588e-46c9-9634-99c5d09b6704",
   "metadata": {},
   "outputs": [],
   "source": [
    "# Custom indexes\n",
    "custom_indexes = [\"ID_101\", \"ID_102\", \"ID_103\"]"
   ]
  },
  {
   "cell_type": "code",
   "execution_count": 55,
   "id": "dbebc426-7d60-48cb-a37a-2a4db5e49e93",
   "metadata": {},
   "outputs": [
    {
     "data": {
      "text/html": [
       "<div>\n",
       "<style scoped>\n",
       "    .dataframe tbody tr th:only-of-type {\n",
       "        vertical-align: middle;\n",
       "    }\n",
       "\n",
       "    .dataframe tbody tr th {\n",
       "        vertical-align: top;\n",
       "    }\n",
       "\n",
       "    .dataframe thead th {\n",
       "        text-align: right;\n",
       "    }\n",
       "</style>\n",
       "<table border=\"1\" class=\"dataframe\">\n",
       "  <thead>\n",
       "    <tr style=\"text-align: right;\">\n",
       "      <th></th>\n",
       "      <th>Name</th>\n",
       "      <th>Age</th>\n",
       "      <th>City</th>\n",
       "      <th>Occupation</th>\n",
       "    </tr>\n",
       "  </thead>\n",
       "  <tbody>\n",
       "    <tr>\n",
       "      <th>ID_101</th>\n",
       "      <td>Alice</td>\n",
       "      <td>30</td>\n",
       "      <td>London</td>\n",
       "      <td>Engineer</td>\n",
       "    </tr>\n",
       "    <tr>\n",
       "      <th>ID_102</th>\n",
       "      <td>Bob</td>\n",
       "      <td>25</td>\n",
       "      <td>Manchester</td>\n",
       "      <td>Doctor</td>\n",
       "    </tr>\n",
       "    <tr>\n",
       "      <th>ID_103</th>\n",
       "      <td>Charlie</td>\n",
       "      <td>35</td>\n",
       "      <td>Birmingham</td>\n",
       "      <td>Artist</td>\n",
       "    </tr>\n",
       "  </tbody>\n",
       "</table>\n",
       "</div>"
      ],
      "text/plain": [
       "           Name  Age        City Occupation\n",
       "ID_101    Alice   30      London   Engineer\n",
       "ID_102      Bob   25  Manchester     Doctor\n",
       "ID_103  Charlie   35  Birmingham     Artist"
      ]
     },
     "execution_count": 55,
     "metadata": {},
     "output_type": "execute_result"
    }
   ],
   "source": [
    "df = pd.DataFrame(data, index=custom_indexes)\n",
    "df"
   ]
  },
  {
   "cell_type": "code",
   "execution_count": 56,
   "id": "f75b70a1-e675-4c65-a4f7-af4e4c90ea4d",
   "metadata": {},
   "outputs": [
    {
     "name": "stdout",
     "output_type": "stream",
     "text": [
      "      Name  Age        City\n",
      "0    Alice   30      London\n",
      "1      Bob   25  Manchester\n",
      "2  Charlie   35  Birmingham\n"
     ]
    }
   ],
   "source": [
    "# List of dictionaries\n",
    "data = [\n",
    "    {\"Name\": \"Alice\", \"Age\": 30, \"City\": \"London\"},\n",
    "    {\"Name\": \"Bob\", \"Age\": 25, \"City\": \"Manchester\"},\n",
    "    {\"Name\": \"Charlie\", \"Age\": 35, \"City\": \"Birmingham\"}\n",
    "]\n",
    "\n",
    "# Creating a DataFrame\n",
    "df = pd.DataFrame(data)\n",
    "\n",
    "# Display the DataFrame\n",
    "print(df)"
   ]
  },
  {
   "cell_type": "code",
   "execution_count": 57,
   "id": "4f91c028-cab0-4c77-b2b2-981c89322026",
   "metadata": {},
   "outputs": [
    {
     "data": {
      "text/html": [
       "<div>\n",
       "<style scoped>\n",
       "    .dataframe tbody tr th:only-of-type {\n",
       "        vertical-align: middle;\n",
       "    }\n",
       "\n",
       "    .dataframe tbody tr th {\n",
       "        vertical-align: top;\n",
       "    }\n",
       "\n",
       "    .dataframe thead th {\n",
       "        text-align: right;\n",
       "    }\n",
       "</style>\n",
       "<table border=\"1\" class=\"dataframe\">\n",
       "  <thead>\n",
       "    <tr style=\"text-align: right;\">\n",
       "      <th></th>\n",
       "      <th>Age</th>\n",
       "    </tr>\n",
       "  </thead>\n",
       "  <tbody>\n",
       "    <tr>\n",
       "      <th>Alice</th>\n",
       "      <td>30</td>\n",
       "    </tr>\n",
       "    <tr>\n",
       "      <th>Bob</th>\n",
       "      <td>25</td>\n",
       "    </tr>\n",
       "    <tr>\n",
       "      <th>Charlie</th>\n",
       "      <td>35</td>\n",
       "    </tr>\n",
       "  </tbody>\n",
       "</table>\n",
       "</div>"
      ],
      "text/plain": [
       "         Age\n",
       "Alice     30\n",
       "Bob       25\n",
       "Charlie   35"
      ]
     },
     "execution_count": 57,
     "metadata": {},
     "output_type": "execute_result"
    }
   ],
   "source": [
    "# Creating a Series\n",
    "series = pd.Series([30, 25, 35], index=[\"Alice\", \"Bob\", \"Charlie\"], name=\"Age\")\n",
    "\n",
    "df = series.to_frame()\n",
    "df"
   ]
  },
  {
   "cell_type": "code",
   "execution_count": 62,
   "id": "aec8c2ff-768f-4cb3-927d-c9c8c25e79d3",
   "metadata": {},
   "outputs": [
    {
     "data": {
      "text/html": [
       "<div>\n",
       "<style scoped>\n",
       "    .dataframe tbody tr th:only-of-type {\n",
       "        vertical-align: middle;\n",
       "    }\n",
       "\n",
       "    .dataframe tbody tr th {\n",
       "        vertical-align: top;\n",
       "    }\n",
       "\n",
       "    .dataframe thead th {\n",
       "        text-align: right;\n",
       "    }\n",
       "</style>\n",
       "<table border=\"1\" class=\"dataframe\">\n",
       "  <thead>\n",
       "    <tr style=\"text-align: right;\">\n",
       "      <th></th>\n",
       "      <th>Name</th>\n",
       "      <th>Age</th>\n",
       "      <th>City</th>\n",
       "      <th>Occupation</th>\n",
       "    </tr>\n",
       "  </thead>\n",
       "  <tbody>\n",
       "    <tr>\n",
       "      <th>0</th>\n",
       "      <td>Alice</td>\n",
       "      <td>30</td>\n",
       "      <td>London</td>\n",
       "      <td>Engineer</td>\n",
       "    </tr>\n",
       "    <tr>\n",
       "      <th>1</th>\n",
       "      <td>Bob</td>\n",
       "      <td>25</td>\n",
       "      <td>Manchester</td>\n",
       "      <td>Doctor</td>\n",
       "    </tr>\n",
       "    <tr>\n",
       "      <th>2</th>\n",
       "      <td>Charlie</td>\n",
       "      <td>35</td>\n",
       "      <td>Birmingham</td>\n",
       "      <td>Artist</td>\n",
       "    </tr>\n",
       "  </tbody>\n",
       "</table>\n",
       "</div>"
      ],
      "text/plain": [
       "      Name  Age        City Occupation\n",
       "0    Alice   30      London   Engineer\n",
       "1      Bob   25  Manchester     Doctor\n",
       "2  Charlie   35  Birmingham     Artist"
      ]
     },
     "execution_count": 62,
     "metadata": {},
     "output_type": "execute_result"
    }
   ],
   "source": [
    "data = [\n",
    "    {\"Name\": \"Alice\", \"Age\": 30, \"City\": \"London\"},\n",
    "    {\"Name\": \"Bob\", \"Age\": 25, \"City\": \"Manchester\"},\n",
    "    {\"Name\": \"Charlie\", \"Age\": 35, \"City\": \"Birmingham\"}\n",
    "]\n",
    "\n",
    "df = pd.DataFrame(data)\n",
    "\n",
    "# New Series\n",
    "occupations = pd.Series([\"Engineer\", \"Doctor\", \"Artist\"], name=\"Occupation\")\n",
    "\n",
    "# Adding the Series as a new column to the DataFrame\n",
    "df[\"Occupation\"] = occupations\n",
    "df"
   ]
  },
  {
   "cell_type": "code",
   "execution_count": 64,
   "id": "8ef3cce1-e0f1-48c1-aa71-ca49ae102338",
   "metadata": {},
   "outputs": [
    {
     "data": {
      "text/html": [
       "<div>\n",
       "<style scoped>\n",
       "    .dataframe tbody tr th:only-of-type {\n",
       "        vertical-align: middle;\n",
       "    }\n",
       "\n",
       "    .dataframe tbody tr th {\n",
       "        vertical-align: top;\n",
       "    }\n",
       "\n",
       "    .dataframe thead th {\n",
       "        text-align: right;\n",
       "    }\n",
       "</style>\n",
       "<table border=\"1\" class=\"dataframe\">\n",
       "  <thead>\n",
       "    <tr style=\"text-align: right;\">\n",
       "      <th></th>\n",
       "      <th>Age</th>\n",
       "      <th>City</th>\n",
       "    </tr>\n",
       "    <tr>\n",
       "      <th>Name</th>\n",
       "      <th></th>\n",
       "      <th></th>\n",
       "    </tr>\n",
       "  </thead>\n",
       "  <tbody>\n",
       "    <tr>\n",
       "      <th>Alice</th>\n",
       "      <td>30</td>\n",
       "      <td>London</td>\n",
       "    </tr>\n",
       "    <tr>\n",
       "      <th>Bob</th>\n",
       "      <td>25</td>\n",
       "      <td>Manchester</td>\n",
       "    </tr>\n",
       "    <tr>\n",
       "      <th>Charlie</th>\n",
       "      <td>35</td>\n",
       "      <td>Birmingham</td>\n",
       "    </tr>\n",
       "  </tbody>\n",
       "</table>\n",
       "</div>"
      ],
      "text/plain": [
       "         Age        City\n",
       "Name                    \n",
       "Alice     30      London\n",
       "Bob       25  Manchester\n",
       "Charlie   35  Birmingham"
      ]
     },
     "execution_count": 64,
     "metadata": {},
     "output_type": "execute_result"
    }
   ],
   "source": [
    "# Original DataFrame\n",
    "data = {\n",
    "    \"Name\": [\"Alice\", \"Bob\", \"Charlie\"],\n",
    "    \"Age\": [30, 25, 35],\n",
    "    \"City\": [\"London\", \"Manchester\", \"Birmingham\"]\n",
    "}\n",
    "df = pd.DataFrame(data)\n",
    "\n",
    "df = df.set_index(\"Name\")\n",
    "df"
   ]
  },
  {
   "cell_type": "code",
   "execution_count": 67,
   "id": "1f9f8fa9-0949-4491-838f-2551d0d323a7",
   "metadata": {},
   "outputs": [
    {
     "name": "stdout",
     "output_type": "stream",
     "text": [
      "Original DataFrame:\n",
      "      Name   Age        City\n",
      "0    Alice  30.0      London\n",
      "1      Bob   NaN        None\n",
      "2  Charlie  35.0  Birmingham\n",
      "3    David   NaN  Manchester\n",
      "\n",
      "\n",
      "DataFrame with forward fill (ffill):\n",
      "      Name   Age        City\n",
      "0    Alice  30.0      London\n",
      "1      Bob  30.0      London\n",
      "2  Charlie  35.0  Birmingham\n",
      "3    David  35.0  Manchester\n",
      "\n",
      "\n",
      "DataFrame with backward fill (bfill):\n",
      "      Name   Age        City\n",
      "0    Alice  30.0      London\n",
      "1      Bob  35.0  Birmingham\n",
      "2  Charlie  35.0  Birmingham\n",
      "3    David   NaN  Manchester\n"
     ]
    },
    {
     "name": "stderr",
     "output_type": "stream",
     "text": [
      "/var/folders/65/jy4lt7y15c1bbj4rg1q8nnjh0000gn/T/ipykernel_33574/3446857070.py:19: FutureWarning: DataFrame.fillna with 'method' is deprecated and will raise in a future version. Use obj.ffill() or obj.bfill() instead.\n",
      "  df_filled_ffill = df.fillna(method='ffill')\n",
      "/var/folders/65/jy4lt7y15c1bbj4rg1q8nnjh0000gn/T/ipykernel_33574/3446857070.py:26: FutureWarning: DataFrame.fillna with 'method' is deprecated and will raise in a future version. Use obj.ffill() or obj.bfill() instead.\n",
      "  df_filled_bfill = df.fillna(method='bfill')\n"
     ]
    }
   ],
   "source": [
    "#How to fill missing values\n",
    "\n",
    "# Sample DataFrame with missing values\n",
    "data = {\n",
    "    \"Name\": [\"Alice\", \"Bob\", \"Charlie\", \"David\"],\n",
    "    \"Age\": [30, None, 35, None],\n",
    "    \"City\": [\"London\", None, \"Birmingham\", \"Manchester\"]\n",
    "}\n",
    "\n",
    "# Create the DataFrame\n",
    "df = pd.DataFrame(data)\n",
    "\n",
    "# Display the original DataFrame\n",
    "print(\"Original DataFrame:\")\n",
    "print(df)\n",
    "print(\"\\n\")\n",
    "\n",
    "# 1. **Forward Fill (ffill)**\n",
    "df_filled_ffill = df.fillna(method='ffill')\n",
    "\n",
    "print(\"DataFrame with forward fill (ffill):\")\n",
    "print(df_filled_ffill)\n",
    "print(\"\\n\")\n",
    "\n",
    "# 2. **Backward Fill (bfill)**\n",
    "df_filled_bfill = df.fillna(method='bfill')\n",
    "\n",
    "print(\"DataFrame with backward fill (bfill):\")\n",
    "print(df_filled_bfill)"
   ]
  },
  {
   "cell_type": "code",
   "execution_count": 68,
   "id": "8a6ae8dc-eb18-4601-8fbe-8a6e79929058",
   "metadata": {},
   "outputs": [
    {
     "name": "stdout",
     "output_type": "stream",
     "text": [
      "Forward Fill (ffill / pad):\n",
      "      Name   Age        City\n",
      "0    Alice  30.0      London\n",
      "1      Bob  30.0      London\n",
      "2  Charlie  35.0  Birmingham\n",
      "3    David  35.0  Manchester\n"
     ]
    },
    {
     "name": "stderr",
     "output_type": "stream",
     "text": [
      "/var/folders/65/jy4lt7y15c1bbj4rg1q8nnjh0000gn/T/ipykernel_33574/1878105491.py:11: FutureWarning: DataFrame.fillna with 'method' is deprecated and will raise in a future version. Use obj.ffill() or obj.bfill() instead.\n",
      "  df_filled_ffill = df.fillna(method='ffill')\n"
     ]
    }
   ],
   "source": [
    "# Sample DataFrame with missing values\n",
    "data = {\n",
    "    \"Name\": [\"Alice\", \"Bob\", \"Charlie\", \"David\"],\n",
    "    \"Age\": [30, None, 35, None],\n",
    "    \"City\": [\"London\", None, \"Birmingham\", \"Manchester\"]\n",
    "}\n",
    "\n",
    "df = pd.DataFrame(data)\n",
    "\n",
    "# Forward Fill (ffill / pad)\n",
    "df_filled_ffill = df.fillna(method='ffill')\n",
    "\n",
    "print(\"Forward Fill (ffill / pad):\")\n",
    "print(df_filled_ffill)"
   ]
  },
  {
   "cell_type": "code",
   "execution_count": 69,
   "id": "5734be83-f6a8-4b67-829d-8243116f26b1",
   "metadata": {},
   "outputs": [
    {
     "name": "stdout",
     "output_type": "stream",
     "text": [
      "Backward Fill (bfill):\n",
      "      Name   Age        City\n",
      "0    Alice  30.0      London\n",
      "1      Bob  35.0  Birmingham\n",
      "2  Charlie  35.0  Birmingham\n",
      "3    David   NaN  Manchester\n"
     ]
    },
    {
     "name": "stderr",
     "output_type": "stream",
     "text": [
      "/var/folders/65/jy4lt7y15c1bbj4rg1q8nnjh0000gn/T/ipykernel_33574/3417611451.py:2: FutureWarning: DataFrame.fillna with 'method' is deprecated and will raise in a future version. Use obj.ffill() or obj.bfill() instead.\n",
      "  df_filled_bfill = df.fillna(method='bfill')\n"
     ]
    }
   ],
   "source": [
    "# Backward Fill (bfill)\n",
    "df_filled_bfill = df.fillna(method='bfill')\n",
    "\n",
    "print(\"Backward Fill (bfill):\")\n",
    "print(df_filled_bfill)"
   ]
  },
  {
   "cell_type": "code",
   "execution_count": 70,
   "id": "df017b9d-b974-4270-9a7b-785bf1c4bc05",
   "metadata": {},
   "outputs": [
    {
     "name": "stdout",
     "output_type": "stream",
     "text": [
      "Forward Fill (pad):\n",
      "      Name   Age        City\n",
      "0    Alice  30.0      London\n",
      "1      Bob  30.0      London\n",
      "2  Charlie  35.0  Birmingham\n",
      "3    David  35.0  Manchester\n"
     ]
    },
    {
     "name": "stderr",
     "output_type": "stream",
     "text": [
      "/var/folders/65/jy4lt7y15c1bbj4rg1q8nnjh0000gn/T/ipykernel_33574/1147565701.py:2: FutureWarning: DataFrame.fillna with 'method' is deprecated and will raise in a future version. Use obj.ffill() or obj.bfill() instead.\n",
      "  df_filled_pad = df.fillna(method='pad')\n"
     ]
    }
   ],
   "source": [
    "# Forward Fill using 'pad' (same as 'ffill')\n",
    "df_filled_pad = df.fillna(method='pad')\n",
    "\n",
    "print(\"Forward Fill (pad):\")\n",
    "print(df_filled_pad)"
   ]
  },
  {
   "cell_type": "code",
   "execution_count": 71,
   "id": "966fa3a5-199e-47a2-95fb-58c853528c2d",
   "metadata": {},
   "outputs": [
    {
     "name": "stdout",
     "output_type": "stream",
     "text": [
      "      Name   Age\n",
      "0    Alice  30.0\n",
      "1      Bob  32.5\n",
      "2  Charlie  35.0\n",
      "3    David  35.0\n"
     ]
    }
   ],
   "source": [
    "#Interpolate\n",
    "# Sample DataFrame with missing values (NaN)\n",
    "data = {\n",
    "    \"Name\": [\"Alice\", \"Bob\", \"Charlie\", \"David\"],\n",
    "    \"Age\": [30, None, 35, None]\n",
    "}\n",
    "\n",
    "df = pd.DataFrame(data)\n",
    "\n",
    "# Interpolating to fill missing values in the 'Age' column\n",
    "df[\"Age\"] = df[\"Age\"].interpolate()\n",
    "\n",
    "print(df)"
   ]
  },
  {
   "cell_type": "code",
   "execution_count": 72,
   "id": "b3dd345b-cbdb-4fd5-af5b-64ece896a592",
   "metadata": {},
   "outputs": [
    {
     "name": "stdout",
     "output_type": "stream",
     "text": [
      "      Name  Age        City\n",
      "0    Alice   30      London\n",
      "2  Charlie   35  Birmingham\n",
      "3    David   40      London\n"
     ]
    }
   ],
   "source": [
    "#Drop rows\n",
    "# Sample DataFrame\n",
    "data = {\n",
    "    \"Name\": [\"Alice\", \"Bob\", \"Charlie\", \"David\"],\n",
    "    \"Age\": [30, 25, 35, 40],\n",
    "    \"City\": [\"London\", \"Manchester\", \"Birmingham\", \"London\"]\n",
    "}\n",
    "\n",
    "df = pd.DataFrame(data)\n",
    "\n",
    "# Drop row with index 1 (Bob)\n",
    "df_dropped_row = df.drop(1)\n",
    "\n",
    "print(df_dropped_row)"
   ]
  },
  {
   "cell_type": "code",
   "execution_count": 74,
   "id": "3b418a8a-ac2d-4386-a368-d61c66592435",
   "metadata": {},
   "outputs": [
    {
     "name": "stdout",
     "output_type": "stream",
     "text": [
      "      Name  Age\n",
      "0    Alice   30\n",
      "1      Bob   25\n",
      "2  Charlie   35\n",
      "3    David   40\n"
     ]
    }
   ],
   "source": [
    "#Drop column\n",
    "# Drop column 'City'\n",
    "df_dropped_column = df.drop(\"City\", axis=1)\n",
    "\n",
    "print(df_dropped_column)"
   ]
  },
  {
   "cell_type": "code",
   "execution_count": 76,
   "id": "7b4c7ce4-6750-4115-8939-df368b7937e7",
   "metadata": {},
   "outputs": [
    {
     "name": "stdout",
     "output_type": "stream",
     "text": [
      "      Name   Age        City\n",
      "0    Alice  30.0        None\n",
      "1      Bob   NaN  Manchester\n",
      "2  Charlie   NaN  Birmingham\n",
      "3    David  40.0      London\n"
     ]
    }
   ],
   "source": [
    "#Drop rows based on a threshold\n",
    "# Sample DataFrame with missing values (NaN)\n",
    "data = {\n",
    "    \"Name\": [\"Alice\", \"Bob\", \"Charlie\", \"David\"],\n",
    "    \"Age\": [30, None, None, 40],\n",
    "    \"City\": [None, \"Manchester\", \"Birmingham\", \"London\"]\n",
    "}\n",
    "\n",
    "df = pd.DataFrame(data)\n",
    "\n",
    "# Drop rows where there are fewer than 2 non-null values\n",
    "df_dropped_rows = df.dropna(thresh=2)\n",
    "\n",
    "print(df_dropped_rows)"
   ]
  },
  {
   "cell_type": "code",
   "execution_count": 77,
   "id": "dbbfe7e4-d2d8-4929-bf8e-eba75732ff92",
   "metadata": {},
   "outputs": [
    {
     "name": "stdout",
     "output_type": "stream",
     "text": [
      "      Name  Age        City\n",
      "0    Alice   30      London\n",
      "2  Charlie   35  Birmingham\n"
     ]
    }
   ],
   "source": [
    "#Drop based on an index\n",
    "# Sample DataFrame\n",
    "data = {\n",
    "    \"Name\": [\"Alice\", \"Bob\", \"Charlie\", \"David\"],\n",
    "    \"Age\": [30, 25, 35, 40],\n",
    "    \"City\": [\"London\", \"Manchester\", \"Birmingham\", \"London\"]\n",
    "}\n",
    "\n",
    "df = pd.DataFrame(data)\n",
    "\n",
    "# Drop row with index 1 (Bob) and index 3 (David)\n",
    "df_dropped_rows = df.drop([1, 3])\n",
    "\n",
    "print(df_dropped_rows)"
   ]
  },
  {
   "cell_type": "code",
   "execution_count": 79,
   "id": "eb3144bd-812f-40cb-bcef-96e354aeee2c",
   "metadata": {},
   "outputs": [
    {
     "name": "stdout",
     "output_type": "stream",
     "text": [
      "      Name  Age        City\n",
      "0    Alice   30      London\n",
      "1      Bob   25  Manchester\n",
      "2  Charlie   35  Birmingham\n",
      "4    David   40      London\n"
     ]
    }
   ],
   "source": [
    "#Drop duplicate rows\n",
    "# Sample DataFrame with duplicate rows\n",
    "data = {\n",
    "    \"Name\": [\"Alice\", \"Bob\", \"Charlie\", \"Alice\", \"David\", \"Bob\"],\n",
    "    \"Age\": [30, 25, 35, 30, 40, 25],\n",
    "    \"City\": [\"London\", \"Manchester\", \"Birmingham\", \"London\", \"London\", \"Manchester\"]\n",
    "}\n",
    "\n",
    "df = pd.DataFrame(data)\n",
    "\n",
    "# Remove duplicate rows\n",
    "df_no_duplicates = df.drop_duplicates()\n",
    "\n",
    "print(df_no_duplicates)"
   ]
  },
  {
   "cell_type": "code",
   "execution_count": null,
   "id": "dade026d-5548-4997-8878-8c5e933bbd67",
   "metadata": {},
   "outputs": [],
   "source": []
  }
 ],
 "metadata": {
  "kernelspec": {
   "display_name": "Python 3 (ipykernel)",
   "language": "python",
   "name": "python3"
  },
  "language_info": {
   "codemirror_mode": {
    "name": "ipython",
    "version": 3
   },
   "file_extension": ".py",
   "mimetype": "text/x-python",
   "name": "python",
   "nbconvert_exporter": "python",
   "pygments_lexer": "ipython3",
   "version": "3.12.2"
  }
 },
 "nbformat": 4,
 "nbformat_minor": 5
}
